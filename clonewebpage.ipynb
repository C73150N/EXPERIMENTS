{
 "cells": [
  {
   "cell_type": "code",
   "execution_count": 1,
   "id": "c2445d41",
   "metadata": {},
   "outputs": [
    {
     "name": "stdout",
     "output_type": "stream",
     "text": [
      "Requirement already satisfied: pywebcopy in c:\\users\\cleison\\appdata\\local\\programs\\python\\python39-32\\lib\\site-packages (6.3.0)\n",
      "Requirement already satisfied: parse in c:\\users\\cleison\\appdata\\local\\programs\\python\\python39-32\\lib\\site-packages (from pywebcopy) (1.19.0)\n",
      "Requirement already satisfied: requests in c:\\users\\cleison\\appdata\\local\\programs\\python\\python39-32\\lib\\site-packages (from pywebcopy) (2.25.1)\n",
      "Requirement already satisfied: bs4 in c:\\users\\cleison\\appdata\\local\\programs\\python\\python39-32\\lib\\site-packages (from pywebcopy) (0.0.1)\n",
      "Requirement already satisfied: w3lib in c:\\users\\cleison\\appdata\\local\\programs\\python\\python39-32\\lib\\site-packages (from pywebcopy) (1.22.0)\n",
      "Requirement already satisfied: fire in c:\\users\\cleison\\appdata\\local\\programs\\python\\python39-32\\lib\\site-packages (from pywebcopy) (0.4.0)\n",
      "Requirement already satisfied: pyquery in c:\\users\\cleison\\appdata\\local\\programs\\python\\python39-32\\lib\\site-packages (from pywebcopy) (1.4.3)\n",
      "Requirement already satisfied: lxml in c:\\users\\cleison\\appdata\\local\\programs\\python\\python39-32\\lib\\site-packages (from pywebcopy) (4.6.3)\n",
      "Requirement already satisfied: beautifulsoup4 in c:\\users\\cleison\\appdata\\local\\programs\\python\\python39-32\\lib\\site-packages (from bs4->pywebcopy) (4.9.3)\n",
      "Requirement already satisfied: soupsieve>1.2 in c:\\users\\cleison\\appdata\\local\\programs\\python\\python39-32\\lib\\site-packages (from beautifulsoup4->bs4->pywebcopy) (2.2.1)\n",
      "Requirement already satisfied: six in c:\\users\\cleison\\appdata\\local\\programs\\python\\python39-32\\lib\\site-packages (from fire->pywebcopy) (1.15.0)\n",
      "Requirement already satisfied: termcolor in c:\\users\\cleison\\appdata\\local\\programs\\python\\python39-32\\lib\\site-packages (from fire->pywebcopy) (1.1.0)\n",
      "Requirement already satisfied: cssselect>0.7.9 in c:\\users\\cleison\\appdata\\local\\programs\\python\\python39-32\\lib\\site-packages (from pyquery->pywebcopy) (1.1.0)\n",
      "Requirement already satisfied: certifi>=2017.4.17 in c:\\users\\cleison\\appdata\\local\\programs\\python\\python39-32\\lib\\site-packages (from requests->pywebcopy) (2020.12.5)\n",
      "Requirement already satisfied: idna<3,>=2.5 in c:\\users\\cleison\\appdata\\local\\programs\\python\\python39-32\\lib\\site-packages (from requests->pywebcopy) (2.10)\n",
      "Requirement already satisfied: chardet<5,>=3.0.2 in c:\\users\\cleison\\appdata\\local\\programs\\python\\python39-32\\lib\\site-packages (from requests->pywebcopy) (4.0.0)\n",
      "Requirement already satisfied: urllib3<1.27,>=1.21.1 in c:\\users\\cleison\\appdata\\local\\programs\\python\\python39-32\\lib\\site-packages (from requests->pywebcopy) (1.26.4)\n"
     ]
    },
    {
     "name": "stderr",
     "output_type": "stream",
     "text": [
      "WARNING: You are using pip version 21.0.1; however, version 21.1.2 is available.\n",
      "You should consider upgrading via the 'c:\\users\\cleison\\appdata\\local\\programs\\python\\python39-32\\python.exe -m pip install --upgrade pip' command.\n"
     ]
    }
   ],
   "source": [
    "!pip install pywebcopy"
   ]
  },
  {
   "cell_type": "code",
   "execution_count": null,
   "id": "424835d5",
   "metadata": {},
   "outputs": [
    {
     "name": "stderr",
     "output_type": "stream",
     "text": [
      "pywebcopy.configs - INFO     - Got response 200 from https://www.rappi.com.pe/robots.txt\n",
      "c:\\users\\cleison\\appdata\\local\\programs\\python\\python39-32\\lib\\site-packages\\pywebcopy\\webpage.py:82: UserWarning: Global Configuration is not setup. You can ignore this if you are going manual.This is just one time warning regarding some unexpected behavior.\n",
      "  warnings.warn(\n",
      "pywebcopy.configs - INFO     - Got response 200 from https://www.rappi.com.pe/\n",
      "webpage    - INFO     - Starting save_complete Action on url: ['https://www.rappi.com.pe/']\n",
      "parsers    - INFO     - Parsing tree with source: <<urllib3.response.HTTPResponse object at 0x06478F88>> encoding <utf-8> and parser <<lxml.etree.HTMLParser object at 0x0649FBD8>>\n",
      "webpage    - INFO     - Starting save_assets Action on url: 'https://www.rappi.com.pe/'\n",
      "webpage    - Level 100 - Queueing download of <82> asset files.\n",
      "webpage    - INFO     - Starting save_html Action on url: 'https://www.rappi.com.pe/'\n",
      "webpage    - INFO     - WebPage saved successfully to C:\\Users\\CLEISON\\Downloads\\site folder\\www.rappi.com.pe\\index.html\n",
      "pywebcopy.configs - INFO     - Got response 200 from https://images.rappi.com/web/fav-icons_apple-icon-60x60.png\n",
      "pywebcopy.configs - INFO     - Got response 200 from https://images.rappi.com/web/fav-icons_apple-icon-57x57.png\n",
      "elements   - INFO     - Writing file at location C:\\Users\\CLEISON\\Downloads\\site folder\\images.rappi.com\\web\\917d47d2__fav-icons_apple-icon-60x60.png\n",
      "elements   - INFO     - Writing file at location C:\\Users\\CLEISON\\Downloads\\site folder\\images.rappi.com\\web\\7700506e__fav-icons_apple-icon-57x57.png\n",
      "elements   - INFO     - File of type .png written successfully to C:\\Users\\CLEISON\\Downloads\\site folder\\images.rappi.com\\web\\917d47d2__fav-icons_apple-icon-60x60.png\n",
      "elements   - INFO     - File of type .png written successfully to C:\\Users\\CLEISON\\Downloads\\site folder\\images.rappi.com\\web\\7700506e__fav-icons_apple-icon-57x57.png\n",
      "pywebcopy.configs - INFO     - Got response 200 from https://images.rappi.com/web/fav-icons_apple-icon-60x60.png\n",
      "elements   - INFO     - [0] CSS linked files are found in file [C:\\Users\\CLEISON\\Downloads\\site folder\\images.rappi.com\\web\\917d47d2__fav-icons_apple-icon-60x60.png]\n",
      "elements   - INFO     - File already exists at location: 'C:\\\\Users\\\\CLEISON\\\\Downloads\\\\site folder\\\\images.rappi.com\\\\web\\\\917d47d2__fav-icons_apple-icon-60x60.png'\n",
      "elements   - INFO     - File already exists at location: 'C:\\\\Users\\\\CLEISON\\\\Downloads\\\\site folder\\\\apis.google.com\\\\js\\\\d623ecb0__platform.js'\n",
      "pywebcopy.configs - INFO     - Got response 200 from https://images.rappi.com/web/fav-icons_apple-icon-57x57.png\n",
      "elements   - INFO     - [0] CSS linked files are found in file [C:\\Users\\CLEISON\\Downloads\\site folder\\images.rappi.com\\web\\7700506e__fav-icons_apple-icon-57x57.png]\n",
      "elements   - INFO     - File already exists at location: 'C:\\\\Users\\\\CLEISON\\\\Downloads\\\\site folder\\\\images.rappi.com\\\\web\\\\7700506e__fav-icons_apple-icon-57x57.png'\n",
      "pywebcopy.configs - INFO     - Got response 200 from https://images.rappi.pe/new_store_type/rappimall_parent_1614977685171.jpg?d=200x200\n",
      "elements   - INFO     - Writing file at location C:\\Users\\CLEISON\\Downloads\\site folder\\images.rappi.pe\\new_store_type\\09446791__rappimall_parent_1614977685171.jpg\n",
      "elements   - INFO     - File of type .jpg written successfully to C:\\Users\\CLEISON\\Downloads\\site folder\\images.rappi.pe\\new_store_type\\09446791__rappimall_parent_1614977685171.jpg\n",
      "pywebcopy.configs - INFO     - Got response 200 from https://images.rappi.pe/new_store_type/express_big-1598710478.png?d=200x200\n",
      "elements   - INFO     - Writing file at location C:\\Users\\CLEISON\\Downloads\\site folder\\images.rappi.pe\\new_store_type\\f1e9489d__express_big-1598710478.png\n",
      "elements   - INFO     - File of type .png written successfully to C:\\Users\\CLEISON\\Downloads\\site folder\\images.rappi.pe\\new_store_type\\f1e9489d__express_big-1598710478.png\n",
      "pywebcopy.configs - INFO     - Got response 200 from https://www.googletagmanager.com/ns.html?id=GTM-WJZNQMX\n",
      "elements   - INFO     - Writing file at location C:\\Users\\CLEISON\\Downloads\\site folder\\www.googletagmanager.com\\c4573d34__ns.html\n",
      "elements   - INFO     - File of type .html written successfully to C:\\Users\\CLEISON\\Downloads\\site folder\\www.googletagmanager.com\\c4573d34__ns.html\n",
      "pywebcopy.configs - INFO     - Got response 200 from https://images.rappi.pe/new_store_type/farmacia-1598710542.png?d=200x200\n",
      "elements   - INFO     - Writing file at location C:\\Users\\CLEISON\\Downloads\\site folder\\images.rappi.pe\\new_store_type\\b7225180__farmacia-1598710542.png\n",
      "elements   - INFO     - File of type .png written successfully to C:\\Users\\CLEISON\\Downloads\\site folder\\images.rappi.pe\\new_store_type\\b7225180__farmacia-1598710542.png\n",
      "pywebcopy.configs - INFO     - Got response 200 from https://images.rappi.com/web/sports@2x.png\n",
      "elements   - INFO     - Writing file at location C:\\Users\\CLEISON\\Downloads\\site folder\\images.rappi.com\\web\\78ba521d__sports@2x.png\n",
      "elements   - INFO     - File of type .png written successfully to C:\\Users\\CLEISON\\Downloads\\site folder\\images.rappi.com\\web\\78ba521d__sports@2x.png\n"
     ]
    }
   ],
   "source": [
    "from pywebcopy import save_webpage\n",
    "  \n",
    "kwargs = {'project_name': 'site folder'}\n",
    "  \n",
    "save_webpage(\n",
    "    \n",
    "    # url pf the website\n",
    "    url=r'https://www.blablabla.com.pe/',\n",
    "      \n",
    "    # folder where the copy will be saved\n",
    "    project_folder=r'C:\\Users\\CLEISON\\Downloads',\n",
    "    **kwargs\n",
    ")"
   ]
  },
  {
   "cell_type": "code",
   "execution_count": null,
   "id": "5622863b",
   "metadata": {},
   "outputs": [],
   "source": []
  }
 ],
 "metadata": {
  "kernelspec": {
   "display_name": "Python 3",
   "language": "python",
   "name": "python3"
  },
  "language_info": {
   "codemirror_mode": {
    "name": "ipython",
    "version": 3
   },
   "file_extension": ".py",
   "mimetype": "text/x-python",
   "name": "python",
   "nbconvert_exporter": "python",
   "pygments_lexer": "ipython3",
   "version": "3.9.0"
  }
 },
 "nbformat": 4,
 "nbformat_minor": 5
}
